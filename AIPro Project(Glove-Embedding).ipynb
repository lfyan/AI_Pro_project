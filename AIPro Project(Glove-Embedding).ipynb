{
 "cells": [
  {
   "cell_type": "markdown",
   "metadata": {},
   "source": [
    "## Toward Handling Toxic and Divisive Content on Social Media"
   ]
  },
  {
   "cell_type": "code",
   "execution_count": 1,
   "metadata": {},
   "outputs": [
    {
     "name": "stderr",
     "output_type": "stream",
     "text": [
      "Using TensorFlow backend.\n"
     ]
    }
   ],
   "source": [
    "# Loading libraries\n",
    "\n",
    "import tensorflow as tf\n",
    "import numpy as np\n",
    "import pandas as pd\n",
    "from sklearn.model_selection import train_test_split\n",
    "from collections import Counter\n",
    "from keras.preprocessing.sequence import pad_sequences\n",
    "from keras.utils import to_categorical\n",
    "from nltk import word_tokenize\n",
    "from nltk.corpus import stopwords\n",
    "import string\n",
    "from PIL import Image\n",
    "from wordcloud import WordCloud\n",
    "import matplotlib.pyplot as plt\n",
    "from sklearn.utils import resample\n",
    "%matplotlib inline\n"
   ]
  },
  {
   "cell_type": "markdown",
   "metadata": {},
   "source": [
    "## Pre-processing Dataset"
   ]
  },
  {
   "cell_type": "code",
   "execution_count": 2,
   "metadata": {},
   "outputs": [],
   "source": [
    "# Loading training dataset\n",
    "\n",
    "df=pd.read_csv('train.csv')"
   ]
  },
  {
   "cell_type": "code",
   "execution_count": 3,
   "metadata": {},
   "outputs": [
    {
     "data": {
      "text/html": [
       "<div>\n",
       "<style scoped>\n",
       "    .dataframe tbody tr th:only-of-type {\n",
       "        vertical-align: middle;\n",
       "    }\n",
       "\n",
       "    .dataframe tbody tr th {\n",
       "        vertical-align: top;\n",
       "    }\n",
       "\n",
       "    .dataframe thead th {\n",
       "        text-align: right;\n",
       "    }\n",
       "</style>\n",
       "<table border=\"1\" class=\"dataframe\">\n",
       "  <thead>\n",
       "    <tr style=\"text-align: right;\">\n",
       "      <th></th>\n",
       "      <th>qid</th>\n",
       "      <th>question_text</th>\n",
       "      <th>target</th>\n",
       "    </tr>\n",
       "  </thead>\n",
       "  <tbody>\n",
       "    <tr>\n",
       "      <th>0</th>\n",
       "      <td>00002165364db923c7e6</td>\n",
       "      <td>How did Quebec nationalists see their province...</td>\n",
       "      <td>0</td>\n",
       "    </tr>\n",
       "    <tr>\n",
       "      <th>1</th>\n",
       "      <td>000032939017120e6e44</td>\n",
       "      <td>Do you have an adopted dog, how would you enco...</td>\n",
       "      <td>0</td>\n",
       "    </tr>\n",
       "    <tr>\n",
       "      <th>2</th>\n",
       "      <td>0000412ca6e4628ce2cf</td>\n",
       "      <td>Why does velocity affect time? Does velocity a...</td>\n",
       "      <td>0</td>\n",
       "    </tr>\n",
       "    <tr>\n",
       "      <th>3</th>\n",
       "      <td>000042bf85aa498cd78e</td>\n",
       "      <td>How did Otto von Guericke used the Magdeburg h...</td>\n",
       "      <td>0</td>\n",
       "    </tr>\n",
       "    <tr>\n",
       "      <th>4</th>\n",
       "      <td>0000455dfa3e01eae3af</td>\n",
       "      <td>Can I convert montra helicon D to a mountain b...</td>\n",
       "      <td>0</td>\n",
       "    </tr>\n",
       "  </tbody>\n",
       "</table>\n",
       "</div>"
      ],
      "text/plain": [
       "                    qid                                      question_text  \\\n",
       "0  00002165364db923c7e6  How did Quebec nationalists see their province...   \n",
       "1  000032939017120e6e44  Do you have an adopted dog, how would you enco...   \n",
       "2  0000412ca6e4628ce2cf  Why does velocity affect time? Does velocity a...   \n",
       "3  000042bf85aa498cd78e  How did Otto von Guericke used the Magdeburg h...   \n",
       "4  0000455dfa3e01eae3af  Can I convert montra helicon D to a mountain b...   \n",
       "\n",
       "   target  \n",
       "0       0  \n",
       "1       0  \n",
       "2       0  \n",
       "3       0  \n",
       "4       0  "
      ]
     },
     "execution_count": 3,
     "metadata": {},
     "output_type": "execute_result"
    }
   ],
   "source": [
    "df.head()"
   ]
  },
  {
   "cell_type": "code",
   "execution_count": 4,
   "metadata": {},
   "outputs": [
    {
     "name": "stdout",
     "output_type": "stream",
     "text": [
      "<class 'pandas.core.frame.DataFrame'>\n",
      "RangeIndex: 1306122 entries, 0 to 1306121\n",
      "Data columns (total 3 columns):\n",
      "qid              1306122 non-null object\n",
      "question_text    1306122 non-null object\n",
      "target           1306122 non-null int64\n",
      "dtypes: int64(1), object(2)\n",
      "memory usage: 29.9+ MB\n"
     ]
    }
   ],
   "source": [
    "df.info()  # no null data"
   ]
  },
  {
   "cell_type": "code",
   "execution_count": 5,
   "metadata": {},
   "outputs": [
    {
     "data": {
      "text/plain": [
       "Counter({0: 1225312, 1: 80810})"
      ]
     },
     "execution_count": 5,
     "metadata": {},
     "output_type": "execute_result"
    }
   ],
   "source": [
    "# About 6% of the data has label 1\n",
    "\n",
    "Counter(df['target'])"
   ]
  },
  {
   "cell_type": "code",
   "execution_count": 6,
   "metadata": {},
   "outputs": [],
   "source": [
    "stops=stopwords.words('english')+list(string.punctuation)"
   ]
  },
  {
   "cell_type": "code",
   "execution_count": 7,
   "metadata": {},
   "outputs": [
    {
     "name": "stdout",
     "output_type": "stream",
     "text": [
      "Loading word vectors...\n",
      "Found 400000 word vectors.\n"
     ]
    }
   ],
   "source": [
    "# Loading Glove vector\n",
    "\n",
    "print('Loading word vectors...')\n",
    "word2vec = {}\n",
    "embedding = []\n",
    "idx2word = []\n",
    "with open('glove.6B/glove.6B.100d.txt', encoding='utf-8') as f:\n",
    "  # is just a space-separated text file in the format:\n",
    "  # word vec[0] vec[1] vec[2] ...\n",
    "    for line in f:\n",
    "        values = line.split()\n",
    "        word = values[0]\n",
    "        vec = np.asarray(values[1:], dtype='float32')\n",
    "        word2vec[word] = vec\n",
    "        embedding.append(vec)\n",
    "        idx2word.append(word)\n",
    "print('Found %s word vectors.' % len(word2vec))\n",
    "embedding = np.array(embedding)\n",
    "V, D = embedding.shape\n",
    "word2idx={word:index_no for index_no , word in enumerate(idx2word)}"
   ]
  },
  {
   "cell_type": "code",
   "execution_count": 8,
   "metadata": {},
   "outputs": [],
   "source": [
    "# Tokenize words in each row, remove stopwords and remove words not in Glove\n",
    "\n",
    "df['clean_text']=df['question_text'].apply(lambda x:[t for t in word_tokenize(x.lower()) if (t not in stops) & (t in idx2word)] )"
   ]
  },
  {
   "cell_type": "code",
   "execution_count": 9,
   "metadata": {
    "scrolled": false
   },
   "outputs": [
    {
     "data": {
      "text/html": [
       "<div>\n",
       "<style scoped>\n",
       "    .dataframe tbody tr th:only-of-type {\n",
       "        vertical-align: middle;\n",
       "    }\n",
       "\n",
       "    .dataframe tbody tr th {\n",
       "        vertical-align: top;\n",
       "    }\n",
       "\n",
       "    .dataframe thead th {\n",
       "        text-align: right;\n",
       "    }\n",
       "</style>\n",
       "<table border=\"1\" class=\"dataframe\">\n",
       "  <thead>\n",
       "    <tr style=\"text-align: right;\">\n",
       "      <th></th>\n",
       "      <th>qid</th>\n",
       "      <th>question_text</th>\n",
       "      <th>target</th>\n",
       "      <th>clean_text</th>\n",
       "    </tr>\n",
       "  </thead>\n",
       "  <tbody>\n",
       "    <tr>\n",
       "      <th>0</th>\n",
       "      <td>00002165364db923c7e6</td>\n",
       "      <td>How did Quebec nationalists see their province...</td>\n",
       "      <td>0</td>\n",
       "      <td>[quebec, nationalists, see, province, nation, ...</td>\n",
       "    </tr>\n",
       "    <tr>\n",
       "      <th>1</th>\n",
       "      <td>000032939017120e6e44</td>\n",
       "      <td>Do you have an adopted dog, how would you enco...</td>\n",
       "      <td>0</td>\n",
       "      <td>[adopted, dog, would, encourage, people, adopt...</td>\n",
       "    </tr>\n",
       "    <tr>\n",
       "      <th>2</th>\n",
       "      <td>0000412ca6e4628ce2cf</td>\n",
       "      <td>Why does velocity affect time? Does velocity a...</td>\n",
       "      <td>0</td>\n",
       "      <td>[velocity, affect, time, velocity, affect, spa...</td>\n",
       "    </tr>\n",
       "    <tr>\n",
       "      <th>3</th>\n",
       "      <td>000042bf85aa498cd78e</td>\n",
       "      <td>How did Otto von Guericke used the Magdeburg h...</td>\n",
       "      <td>0</td>\n",
       "      <td>[otto, von, guericke, used, magdeburg, hemisph...</td>\n",
       "    </tr>\n",
       "    <tr>\n",
       "      <th>4</th>\n",
       "      <td>0000455dfa3e01eae3af</td>\n",
       "      <td>Can I convert montra helicon D to a mountain b...</td>\n",
       "      <td>0</td>\n",
       "      <td>[convert, helicon, mountain, bike, changing, t...</td>\n",
       "    </tr>\n",
       "  </tbody>\n",
       "</table>\n",
       "</div>"
      ],
      "text/plain": [
       "                    qid                                      question_text  \\\n",
       "0  00002165364db923c7e6  How did Quebec nationalists see their province...   \n",
       "1  000032939017120e6e44  Do you have an adopted dog, how would you enco...   \n",
       "2  0000412ca6e4628ce2cf  Why does velocity affect time? Does velocity a...   \n",
       "3  000042bf85aa498cd78e  How did Otto von Guericke used the Magdeburg h...   \n",
       "4  0000455dfa3e01eae3af  Can I convert montra helicon D to a mountain b...   \n",
       "\n",
       "   target                                         clean_text  \n",
       "0       0  [quebec, nationalists, see, province, nation, ...  \n",
       "1       0  [adopted, dog, would, encourage, people, adopt...  \n",
       "2       0  [velocity, affect, time, velocity, affect, spa...  \n",
       "3       0  [otto, von, guericke, used, magdeburg, hemisph...  \n",
       "4       0  [convert, helicon, mountain, bike, changing, t...  "
      ]
     },
     "execution_count": 9,
     "metadata": {},
     "output_type": "execute_result"
    }
   ],
   "source": [
    "df.head()"
   ]
  },
  {
   "cell_type": "code",
   "execution_count": 10,
   "metadata": {},
   "outputs": [
    {
     "data": {
      "text/plain": [
       "78"
      ]
     },
     "execution_count": 10,
     "metadata": {},
     "output_type": "execute_result"
    }
   ],
   "source": [
    "# Maximum size sentence\n",
    "\n",
    "max(df.clean_text.apply(len))"
   ]
  },
  {
   "cell_type": "code",
   "execution_count": 11,
   "metadata": {},
   "outputs": [],
   "source": [
    "# Word mapping to index in Glove\n",
    "\n",
    "df['clean_text_idx']=df['clean_text'].apply(lambda x:[word2idx[t] for t in x] )"
   ]
  },
  {
   "cell_type": "code",
   "execution_count": 12,
   "metadata": {},
   "outputs": [
    {
     "data": {
      "text/html": [
       "<div>\n",
       "<style scoped>\n",
       "    .dataframe tbody tr th:only-of-type {\n",
       "        vertical-align: middle;\n",
       "    }\n",
       "\n",
       "    .dataframe tbody tr th {\n",
       "        vertical-align: top;\n",
       "    }\n",
       "\n",
       "    .dataframe thead th {\n",
       "        text-align: right;\n",
       "    }\n",
       "</style>\n",
       "<table border=\"1\" class=\"dataframe\">\n",
       "  <thead>\n",
       "    <tr style=\"text-align: right;\">\n",
       "      <th></th>\n",
       "      <th>qid</th>\n",
       "      <th>question_text</th>\n",
       "      <th>target</th>\n",
       "      <th>clean_text</th>\n",
       "      <th>clean_text_idx</th>\n",
       "    </tr>\n",
       "  </thead>\n",
       "  <tbody>\n",
       "    <tr>\n",
       "      <th>0</th>\n",
       "      <td>00002165364db923c7e6</td>\n",
       "      <td>How did Quebec nationalists see their province...</td>\n",
       "      <td>0</td>\n",
       "      <td>[quebec, nationalists, see, province, nation, ...</td>\n",
       "      <td>[5074, 9186, 253, 624, 513, 2989]</td>\n",
       "    </tr>\n",
       "    <tr>\n",
       "      <th>1</th>\n",
       "      <td>000032939017120e6e44</td>\n",
       "      <td>Do you have an adopted dog, how would you enco...</td>\n",
       "      <td>0</td>\n",
       "      <td>[adopted, dog, would, encourage, people, adopt...</td>\n",
       "      <td>[2181, 2926, 54, 3564, 69, 5045, 2855]</td>\n",
       "    </tr>\n",
       "    <tr>\n",
       "      <th>2</th>\n",
       "      <td>0000412ca6e4628ce2cf</td>\n",
       "      <td>Why does velocity affect time? Does velocity a...</td>\n",
       "      <td>0</td>\n",
       "      <td>[velocity, affect, time, velocity, affect, spa...</td>\n",
       "      <td>[12190, 3194, 79, 12190, 3194, 863, 13780]</td>\n",
       "    </tr>\n",
       "    <tr>\n",
       "      <th>3</th>\n",
       "      <td>000042bf85aa498cd78e</td>\n",
       "      <td>How did Otto von Guericke used the Magdeburg h...</td>\n",
       "      <td>0</td>\n",
       "      <td>[otto, von, guericke, used, magdeburg, hemisph...</td>\n",
       "      <td>[9639, 4145, 219309, 180, 36018, 53471]</td>\n",
       "    </tr>\n",
       "    <tr>\n",
       "      <th>4</th>\n",
       "      <td>0000455dfa3e01eae3af</td>\n",
       "      <td>Can I convert montra helicon D to a mountain b...</td>\n",
       "      <td>0</td>\n",
       "      <td>[convert, helicon, mountain, bike, changing, t...</td>\n",
       "      <td>[7037, 136941, 1611, 7696, 2803, 21388]</td>\n",
       "    </tr>\n",
       "  </tbody>\n",
       "</table>\n",
       "</div>"
      ],
      "text/plain": [
       "                    qid                                      question_text  \\\n",
       "0  00002165364db923c7e6  How did Quebec nationalists see their province...   \n",
       "1  000032939017120e6e44  Do you have an adopted dog, how would you enco...   \n",
       "2  0000412ca6e4628ce2cf  Why does velocity affect time? Does velocity a...   \n",
       "3  000042bf85aa498cd78e  How did Otto von Guericke used the Magdeburg h...   \n",
       "4  0000455dfa3e01eae3af  Can I convert montra helicon D to a mountain b...   \n",
       "\n",
       "   target                                         clean_text  \\\n",
       "0       0  [quebec, nationalists, see, province, nation, ...   \n",
       "1       0  [adopted, dog, would, encourage, people, adopt...   \n",
       "2       0  [velocity, affect, time, velocity, affect, spa...   \n",
       "3       0  [otto, von, guericke, used, magdeburg, hemisph...   \n",
       "4       0  [convert, helicon, mountain, bike, changing, t...   \n",
       "\n",
       "                               clean_text_idx  \n",
       "0           [5074, 9186, 253, 624, 513, 2989]  \n",
       "1      [2181, 2926, 54, 3564, 69, 5045, 2855]  \n",
       "2  [12190, 3194, 79, 12190, 3194, 863, 13780]  \n",
       "3     [9639, 4145, 219309, 180, 36018, 53471]  \n",
       "4     [7037, 136941, 1611, 7696, 2803, 21388]  "
      ]
     },
     "execution_count": 12,
     "metadata": {},
     "output_type": "execute_result"
    }
   ],
   "source": [
    "df.head()"
   ]
  },
  {
   "cell_type": "code",
   "execution_count": 13,
   "metadata": {},
   "outputs": [
    {
     "data": {
      "text/plain": [
       "0    1225312\n",
       "1    1000000\n",
       "Name: target, dtype: int64"
      ]
     },
     "execution_count": 13,
     "metadata": {},
     "output_type": "execute_result"
    }
   ],
   "source": [
    "# Upsampling minority class\n",
    "\n",
    "df_majority = df[df.target==0]\n",
    "df_minority = df[df.target==1]\n",
    " \n",
    "df_minority_upsampled = resample(df_minority, \n",
    "                                 replace=True,     # sample with replacement\n",
    "                                 n_samples=1000000,    # to match majority class\n",
    "                                 random_state=101) # reproducible results\n",
    " \n",
    "# Combine majority class with upsampled minority class\n",
    "df_upsampled = pd.concat([df_majority, df_minority_upsampled])\n",
    " \n",
    "# Display new class counts\n",
    "df_upsampled.target.value_counts()"
   ]
  },
  {
   "cell_type": "code",
   "execution_count": 14,
   "metadata": {},
   "outputs": [
    {
     "data": {
      "text/html": [
       "<div>\n",
       "<style scoped>\n",
       "    .dataframe tbody tr th:only-of-type {\n",
       "        vertical-align: middle;\n",
       "    }\n",
       "\n",
       "    .dataframe tbody tr th {\n",
       "        vertical-align: top;\n",
       "    }\n",
       "\n",
       "    .dataframe thead th {\n",
       "        text-align: right;\n",
       "    }\n",
       "</style>\n",
       "<table border=\"1\" class=\"dataframe\">\n",
       "  <thead>\n",
       "    <tr style=\"text-align: right;\">\n",
       "      <th></th>\n",
       "      <th>qid</th>\n",
       "      <th>question_text</th>\n",
       "      <th>target</th>\n",
       "      <th>clean_text</th>\n",
       "      <th>clean_text_idx</th>\n",
       "    </tr>\n",
       "  </thead>\n",
       "  <tbody>\n",
       "    <tr>\n",
       "      <th>0</th>\n",
       "      <td>00002165364db923c7e6</td>\n",
       "      <td>How did Quebec nationalists see their province...</td>\n",
       "      <td>0</td>\n",
       "      <td>[quebec, nationalists, see, province, nation, ...</td>\n",
       "      <td>[5074, 9186, 253, 624, 513, 2989]</td>\n",
       "    </tr>\n",
       "    <tr>\n",
       "      <th>1</th>\n",
       "      <td>000032939017120e6e44</td>\n",
       "      <td>Do you have an adopted dog, how would you enco...</td>\n",
       "      <td>0</td>\n",
       "      <td>[adopted, dog, would, encourage, people, adopt...</td>\n",
       "      <td>[2181, 2926, 54, 3564, 69, 5045, 2855]</td>\n",
       "    </tr>\n",
       "    <tr>\n",
       "      <th>2</th>\n",
       "      <td>0000412ca6e4628ce2cf</td>\n",
       "      <td>Why does velocity affect time? Does velocity a...</td>\n",
       "      <td>0</td>\n",
       "      <td>[velocity, affect, time, velocity, affect, spa...</td>\n",
       "      <td>[12190, 3194, 79, 12190, 3194, 863, 13780]</td>\n",
       "    </tr>\n",
       "    <tr>\n",
       "      <th>3</th>\n",
       "      <td>000042bf85aa498cd78e</td>\n",
       "      <td>How did Otto von Guericke used the Magdeburg h...</td>\n",
       "      <td>0</td>\n",
       "      <td>[otto, von, guericke, used, magdeburg, hemisph...</td>\n",
       "      <td>[9639, 4145, 219309, 180, 36018, 53471]</td>\n",
       "    </tr>\n",
       "    <tr>\n",
       "      <th>4</th>\n",
       "      <td>0000455dfa3e01eae3af</td>\n",
       "      <td>Can I convert montra helicon D to a mountain b...</td>\n",
       "      <td>0</td>\n",
       "      <td>[convert, helicon, mountain, bike, changing, t...</td>\n",
       "      <td>[7037, 136941, 1611, 7696, 2803, 21388]</td>\n",
       "    </tr>\n",
       "  </tbody>\n",
       "</table>\n",
       "</div>"
      ],
      "text/plain": [
       "                    qid                                      question_text  \\\n",
       "0  00002165364db923c7e6  How did Quebec nationalists see their province...   \n",
       "1  000032939017120e6e44  Do you have an adopted dog, how would you enco...   \n",
       "2  0000412ca6e4628ce2cf  Why does velocity affect time? Does velocity a...   \n",
       "3  000042bf85aa498cd78e  How did Otto von Guericke used the Magdeburg h...   \n",
       "4  0000455dfa3e01eae3af  Can I convert montra helicon D to a mountain b...   \n",
       "\n",
       "   target                                         clean_text  \\\n",
       "0       0  [quebec, nationalists, see, province, nation, ...   \n",
       "1       0  [adopted, dog, would, encourage, people, adopt...   \n",
       "2       0  [velocity, affect, time, velocity, affect, spa...   \n",
       "3       0  [otto, von, guericke, used, magdeburg, hemisph...   \n",
       "4       0  [convert, helicon, mountain, bike, changing, t...   \n",
       "\n",
       "                               clean_text_idx  \n",
       "0           [5074, 9186, 253, 624, 513, 2989]  \n",
       "1      [2181, 2926, 54, 3564, 69, 5045, 2855]  \n",
       "2  [12190, 3194, 79, 12190, 3194, 863, 13780]  \n",
       "3     [9639, 4145, 219309, 180, 36018, 53471]  \n",
       "4     [7037, 136941, 1611, 7696, 2803, 21388]  "
      ]
     },
     "execution_count": 14,
     "metadata": {},
     "output_type": "execute_result"
    }
   ],
   "source": [
    "df_upsampled.head()"
   ]
  },
  {
   "cell_type": "code",
   "execution_count": 15,
   "metadata": {},
   "outputs": [],
   "source": [
    "# Pad all input to a fix size vector\n",
    "\n",
    "data_pad=pad_sequences(df_upsampled['clean_text_idx'],maxlen=78)"
   ]
  },
  {
   "cell_type": "code",
   "execution_count": 16,
   "metadata": {},
   "outputs": [
    {
     "data": {
      "text/plain": [
       "array([   0,    0,    0,    0,    0,    0,    0,    0,    0,    0,    0,\n",
       "          0,    0,    0,    0,    0,    0,    0,    0,    0,    0,    0,\n",
       "          0,    0,    0,    0,    0,    0,    0,    0,    0,    0,    0,\n",
       "          0,    0,    0,    0,    0,    0,    0,    0,    0,    0,    0,\n",
       "          0,    0,    0,    0,    0,    0,    0,    0,    0,    0,    0,\n",
       "          0,    0,    0,    0,    0,    0,    0,    0,    0,    0,    0,\n",
       "          0,    0,    0,    0,    0,    0, 5074, 9186,  253,  624,  513,\n",
       "       2989])"
      ]
     },
     "execution_count": 16,
     "metadata": {},
     "output_type": "execute_result"
    }
   ],
   "source": [
    "data_pad[0]"
   ]
  },
  {
   "cell_type": "code",
   "execution_count": 17,
   "metadata": {},
   "outputs": [
    {
     "data": {
      "text/plain": [
       "(2225312, 78)"
      ]
     },
     "execution_count": 17,
     "metadata": {},
     "output_type": "execute_result"
    }
   ],
   "source": [
    "data_pad.shape"
   ]
  },
  {
   "cell_type": "code",
   "execution_count": 18,
   "metadata": {},
   "outputs": [],
   "source": [
    "labels=df_upsampled['target']"
   ]
  },
  {
   "cell_type": "code",
   "execution_count": 19,
   "metadata": {},
   "outputs": [],
   "source": [
    "# Convert labels to vector of size n x 2\n",
    "\n",
    "labels=to_categorical(labels,num_classes=2)"
   ]
  },
  {
   "cell_type": "markdown",
   "metadata": {},
   "source": [
    "## Wordcloud Exploration for Fun"
   ]
  },
  {
   "cell_type": "code",
   "execution_count": 20,
   "metadata": {},
   "outputs": [],
   "source": [
    "df1=df[df['target']==1]['question_text']"
   ]
  },
  {
   "cell_type": "code",
   "execution_count": 21,
   "metadata": {},
   "outputs": [
    {
     "data": {
      "image/png": "[encoded data removed]",
      "text/plain": [
       "<Figure size 432x288 with 1 Axes>"
      ]
     },
     "metadata": {},
     "output_type": "display_data"
    }
   ],
   "source": [
    "text=df1.str.cat(sep=' ')\n",
    "wordcloud = WordCloud().generate(text)\n",
    "plt.imshow(wordcloud, interpolation='bilinear')\n",
    "plt.axis(\"off\")\n",
    "plt.show()"
   ]
  },
  {
   "cell_type": "code",
   "execution_count": 22,
   "metadata": {},
   "outputs": [],
   "source": [
    "df0=df[df['target']==0]['question_text']"
   ]
  },
  {
   "cell_type": "code",
   "execution_count": 23,
   "metadata": {},
   "outputs": [
    {
     "data": {
      "image/png": "[encoded data removed]",
      "text/plain": [
       "<Figure size 432x288 with 1 Axes>"
      ]
     },
     "metadata": {},
     "output_type": "display_data"
    }
   ],
   "source": [
    "text0=df0.str.cat(sep=' ')\n",
    "wordcloud = WordCloud().generate(text0)\n",
    "plt.imshow(wordcloud, interpolation='bilinear')\n",
    "plt.axis(\"off\")\n",
    "plt.show()"
   ]
  },
  {
   "cell_type": "markdown",
   "metadata": {},
   "source": [
    "## Model Creation"
   ]
  },
  {
   "cell_type": "code",
   "execution_count": 24,
   "metadata": {},
   "outputs": [],
   "source": [
    "lstm_hidden_units=128  # no of hidden units \n",
    "num_classes=2\n",
    "embedding_size=100  # embedding vector size\n",
    "sentence_len=78  # max sentence length in dataset\n",
    "vocab_size=400000  # Glove vocab size"
   ]
  },
  {
   "cell_type": "code",
   "execution_count": 30,
   "metadata": {},
   "outputs": [],
   "source": [
    "def model():\n",
    "    \n",
    "    x=tf.placeholder(tf.int32,shape=[None,sentence_len])  # input place holder\n",
    "    y=tf.placeholder(tf.float32,shape=[None,2]) # output place holder\n",
    "    \n",
    "    w=tf.Variable(tf.random_normal([lstm_hidden_units,num_classes]))\n",
    "    b=tf.Variable(tf.constant(0.1,shape=[num_classes]))\n",
    "        \n",
    "    Embedding = tf.get_variable(name=\"word_embedding\", shape=[embedding.shape[0],embedding_size],\n",
    "                                                       initializer=tf.constant_initializer(embedding),\n",
    "                                                       trainable=False) # loading embedding matrix                               \n",
    "    embed_lookup=tf.nn.embedding_lookup(Embedding,x) # batch_size x sentence_length x embedding_size\n",
    "    \n",
    "    lstm_cell=tf.contrib.rnn.BasicLSTMCell(lstm_hidden_units) # create LSTM layer\n",
    "    current_batch_size=tf.shape(x)[0]\n",
    "    initial_state=lstm_cell.zero_state(current_batch_size,dtype=tf.float32) # state initialisations\n",
    "\n",
    "    outputs, _ =tf.nn.dynamic_rnn(lstm_cell,embed_lookup,initial_state=initial_state,dtype=tf.float32)#batch_size x sen_length x hidden_units \n",
    "    outputs=tf.transpose(outputs,[1,0,2]) #sentence_length x batch_size x hidden_units\n",
    "    last=tf.gather(outputs,int(outputs.get_shape()[0])-1)  # # batch_size x hidden_units\n",
    "    \n",
    "    predictions=tf.matmul(last,w)+b # batch_size x 2\n",
    "    correct_predictions=tf.equal(tf.argmax(tf.nn.sigmoid(predictions),axis=1),tf.argmax(y,axis=1))\n",
    "    accuracy=tf.reduce_mean(tf.cast(correct_predictions,tf.float32))     \n",
    "    loss=tf.reduce_mean(tf.nn.softmax_cross_entropy_with_logits(logits=predictions,labels=y))\n",
    "    optimizer=tf.train.AdamOptimizer(learning_rate=0.005).minimize(loss)\n",
    "    \n",
    "    return optimizer,loss,x,y,accuracy,predictions, correct_predictions\n",
    "    "
   ]
  },
  {
   "cell_type": "markdown",
   "metadata": {},
   "source": [
    "## Training and Testing"
   ]
  },
  {
   "cell_type": "code",
   "execution_count": 26,
   "metadata": {},
   "outputs": [],
   "source": [
    "X_train,X_test, y_train,y_test=train_test_split(data_pad,labels,test_size=0.3,random_state=101)"
   ]
  },
  {
   "cell_type": "code",
   "execution_count": 27,
   "metadata": {},
   "outputs": [
    {
     "data": {
      "text/plain": [
       "(1557718, 78)"
      ]
     },
     "execution_count": 27,
     "metadata": {},
     "output_type": "execute_result"
    }
   ],
   "source": [
    "X_train.shape"
   ]
  },
  {
   "cell_type": "code",
   "execution_count": 28,
   "metadata": {},
   "outputs": [
    {
     "data": {
      "text/plain": [
       "(667594, 78)"
      ]
     },
     "execution_count": 28,
     "metadata": {},
     "output_type": "execute_result"
    }
   ],
   "source": [
    "X_test.shape"
   ]
  },
  {
   "cell_type": "code",
   "execution_count": 31,
   "metadata": {
    "scrolled": false
   },
   "outputs": [
    {
     "name": "stderr",
     "output_type": "stream",
     "text": [
      "C:\\Users\\fatah\\Anaconda3\\lib\\site-packages\\tensorflow\\python\\ops\\gradients_impl.py:93: UserWarning: Converting sparse IndexedSlices to a dense Tensor of unknown shape. This may consume a large amount of memory.\n",
      "  \"Converting sparse IndexedSlices to a dense Tensor of unknown shape. \"\n"
     ]
    }
   ],
   "source": [
    "tf.reset_default_graph()\n",
    "optimizer,loss,x,y,accuracy,predictions, correct_predictions=model()"
   ]
  },
  {
   "cell_type": "code",
   "execution_count": 32,
   "metadata": {},
   "outputs": [],
   "source": [
    "batch_size=32\n",
    "num_batches=len(X_train)//batch_size"
   ]
  },
  {
   "cell_type": "code",
   "execution_count": 34,
   "metadata": {},
   "outputs": [
    {
     "name": "stdout",
     "output_type": "stream",
     "text": [
      "Step 500 of 48678 loss 0.306552 accuracy 0.90625\n",
      "Test loss 0.421432 accuracy 0.795\n",
      "Step 1000 of 48678 loss 0.396838 accuracy 0.78125\n",
      "Test loss 0.332989 accuracy 0.855\n",
      "Step 1500 of 48678 loss 0.532871 accuracy 0.71875\n",
      "Test loss 0.34287 accuracy 0.865\n",
      "Step 2000 of 48678 loss 0.273426 accuracy 0.90625\n",
      "Test loss 0.33279 accuracy 0.865\n",
      "Step 2500 of 48678 loss 0.170967 accuracy 0.9375\n",
      "Test loss 0.313362 accuracy 0.865\n",
      "Step 3000 of 48678 loss 0.197062 accuracy 0.90625\n",
      "Test loss 0.273566 accuracy 0.9\n",
      "Step 3500 of 48678 loss 0.171502 accuracy 0.96875\n",
      "Test loss 0.270069 accuracy 0.89\n",
      "Step 4000 of 48678 loss 0.233579 accuracy 0.90625\n",
      "Test loss 0.320106 accuracy 0.86\n",
      "Step 4500 of 48678 loss 0.25989 accuracy 0.875\n",
      "Test loss 0.26426 accuracy 0.9\n",
      "Step 5000 of 48678 loss 0.392177 accuracy 0.84375\n",
      "Test loss 0.309422 accuracy 0.88\n",
      "Step 5500 of 48678 loss 0.290632 accuracy 0.875\n",
      "Test loss 0.330098 accuracy 0.865\n",
      "Step 6000 of 48678 loss 0.266149 accuracy 0.90625\n",
      "Test loss 0.273478 accuracy 0.875\n",
      "Step 6500 of 48678 loss 0.503137 accuracy 0.75\n",
      "Test loss 0.261486 accuracy 0.885\n",
      "Step 7000 of 48678 loss 0.373141 accuracy 0.84375\n",
      "Test loss 0.24418 accuracy 0.915\n",
      "Step 7500 of 48678 loss 0.277174 accuracy 0.875\n",
      "Test loss 0.348857 accuracy 0.86\n",
      "Step 8000 of 48678 loss 0.194585 accuracy 0.96875\n",
      "Test loss 0.309945 accuracy 0.875\n",
      "Step 8500 of 48678 loss 0.204242 accuracy 0.9375\n",
      "Test loss 0.276555 accuracy 0.895\n",
      "Step 9000 of 48678 loss 0.378935 accuracy 0.84375\n",
      "Test loss 0.275168 accuracy 0.87\n",
      "Step 9500 of 48678 loss 0.323214 accuracy 0.875\n",
      "Test loss 0.293549 accuracy 0.895\n",
      "Step 10000 of 48678 loss 0.235676 accuracy 0.875\n",
      "Test loss 0.267309 accuracy 0.91\n",
      "Step 10500 of 48678 loss 0.259031 accuracy 0.90625\n",
      "Test loss 0.247324 accuracy 0.905\n",
      "Step 11000 of 48678 loss 0.308514 accuracy 0.875\n",
      "Test loss 0.19711 accuracy 0.945\n",
      "Step 11500 of 48678 loss 0.248862 accuracy 0.9375\n",
      "Test loss 0.267337 accuracy 0.895\n",
      "Step 12000 of 48678 loss 0.374408 accuracy 0.84375\n",
      "Test loss 0.299338 accuracy 0.865\n",
      "Step 12500 of 48678 loss 0.132683 accuracy 0.96875\n",
      "Test loss 0.278103 accuracy 0.89\n",
      "Step 13000 of 48678 loss 0.160025 accuracy 0.90625\n",
      "Test loss 0.26154 accuracy 0.905\n",
      "Step 13500 of 48678 loss 0.200118 accuracy 0.96875\n",
      "Test loss 0.23317 accuracy 0.915\n",
      "Step 14000 of 48678 loss 0.0859682 accuracy 1.0\n",
      "Test loss 0.269425 accuracy 0.885\n",
      "Step 14500 of 48678 loss 0.355544 accuracy 0.84375\n",
      "Test loss 0.310608 accuracy 0.87\n",
      "Step 15000 of 48678 loss 0.426943 accuracy 0.84375\n",
      "Test loss 0.313511 accuracy 0.865\n",
      "Step 15500 of 48678 loss 0.177606 accuracy 0.96875\n",
      "Test loss 0.348605 accuracy 0.88\n",
      "Step 16000 of 48678 loss 0.319213 accuracy 0.875\n",
      "Test loss 0.223019 accuracy 0.905\n",
      "Step 16500 of 48678 loss 0.264357 accuracy 0.875\n",
      "Test loss 0.227201 accuracy 0.91\n",
      "Step 17000 of 48678 loss 0.30678 accuracy 0.84375\n",
      "Test loss 0.31234 accuracy 0.845\n",
      "Step 17500 of 48678 loss 0.395897 accuracy 0.8125\n",
      "Test loss 0.261807 accuracy 0.91\n",
      "Step 18000 of 48678 loss 0.253041 accuracy 0.96875\n",
      "Test loss 0.347544 accuracy 0.855\n",
      "Step 18500 of 48678 loss 0.307652 accuracy 0.875\n",
      "Test loss 0.233115 accuracy 0.9\n",
      "Step 19000 of 48678 loss 0.181747 accuracy 0.9375\n",
      "Test loss 0.211762 accuracy 0.94\n",
      "Step 19500 of 48678 loss 0.259438 accuracy 0.9375\n",
      "Test loss 0.260595 accuracy 0.905\n",
      "Step 20000 of 48678 loss 0.209537 accuracy 0.9375\n",
      "Test loss 0.276501 accuracy 0.9\n",
      "Step 20500 of 48678 loss 0.420368 accuracy 0.875\n",
      "Test loss 0.275557 accuracy 0.9\n",
      "Step 21000 of 48678 loss 0.223404 accuracy 0.90625\n",
      "Test loss 0.22908 accuracy 0.92\n",
      "Step 21500 of 48678 loss 0.318516 accuracy 0.875\n",
      "Test loss 0.30722 accuracy 0.89\n",
      "Step 22000 of 48678 loss 0.342883 accuracy 0.875\n",
      "Test loss 0.206986 accuracy 0.925\n",
      "Step 22500 of 48678 loss 0.227256 accuracy 0.875\n",
      "Test loss 0.245685 accuracy 0.905\n",
      "Step 23000 of 48678 loss 0.173098 accuracy 0.9375\n",
      "Test loss 0.239145 accuracy 0.925\n",
      "Step 23500 of 48678 loss 0.189558 accuracy 0.9375\n",
      "Test loss 0.255572 accuracy 0.905\n",
      "Step 24000 of 48678 loss 0.206651 accuracy 0.96875\n",
      "Test loss 0.241336 accuracy 0.9\n",
      "Step 24500 of 48678 loss 0.180127 accuracy 0.96875\n",
      "Test loss 0.256986 accuracy 0.895\n",
      "Step 25000 of 48678 loss 0.0828383 accuracy 0.96875\n",
      "Test loss 0.267227 accuracy 0.895\n",
      "Step 25500 of 48678 loss 0.253388 accuracy 0.9375\n",
      "Test loss 0.280413 accuracy 0.9\n",
      "Step 26000 of 48678 loss 0.382206 accuracy 0.8125\n",
      "Test loss 0.23996 accuracy 0.91\n",
      "Step 26500 of 48678 loss 0.19198 accuracy 0.9375\n",
      "Test loss 0.224213 accuracy 0.92\n",
      "Step 27000 of 48678 loss 0.209749 accuracy 0.9375\n",
      "Test loss 0.341133 accuracy 0.885\n",
      "Step 27500 of 48678 loss 0.259247 accuracy 0.875\n",
      "Test loss 0.292643 accuracy 0.9\n",
      "Step 28000 of 48678 loss 0.284991 accuracy 0.9375\n",
      "Test loss 0.265296 accuracy 0.87\n",
      "Step 28500 of 48678 loss 0.236543 accuracy 0.875\n",
      "Test loss 0.243752 accuracy 0.905\n",
      "Step 29000 of 48678 loss 0.138503 accuracy 0.96875\n",
      "Test loss 0.209278 accuracy 0.93\n",
      "Step 29500 of 48678 loss 0.223783 accuracy 0.90625\n",
      "Test loss 0.241841 accuracy 0.885\n",
      "Step 30000 of 48678 loss 0.260914 accuracy 0.9375\n",
      "Test loss 0.205053 accuracy 0.91\n",
      "Step 30500 of 48678 loss 0.335608 accuracy 0.875\n",
      "Test loss 0.22758 accuracy 0.895\n",
      "Step 31000 of 48678 loss 0.109942 accuracy 1.0\n",
      "Test loss 0.228813 accuracy 0.9\n",
      "Step 31500 of 48678 loss 0.316581 accuracy 0.875\n",
      "Test loss 0.313759 accuracy 0.86\n",
      "Step 32000 of 48678 loss 0.0751904 accuracy 1.0\n",
      "Test loss 0.278818 accuracy 0.895\n",
      "Step 32500 of 48678 loss 0.239675 accuracy 0.90625\n",
      "Test loss 0.284243 accuracy 0.89\n",
      "Step 33000 of 48678 loss 0.112144 accuracy 1.0\n",
      "Test loss 0.238177 accuracy 0.905\n",
      "Step 33500 of 48678 loss 0.0820377 accuracy 1.0\n",
      "Test loss 0.197881 accuracy 0.915\n",
      "Step 34000 of 48678 loss 0.313131 accuracy 0.90625\n",
      "Test loss 0.195959 accuracy 0.915\n",
      "Step 34500 of 48678 loss 0.196549 accuracy 0.875\n",
      "Test loss 0.257533 accuracy 0.885\n",
      "Step 35000 of 48678 loss 0.261068 accuracy 0.875\n",
      "Test loss 0.219833 accuracy 0.905\n",
      "Step 35500 of 48678 loss 0.190968 accuracy 0.90625\n",
      "Test loss 0.239283 accuracy 0.915\n",
      "Step 36000 of 48678 loss 0.357024 accuracy 0.84375\n",
      "Test loss 0.234882 accuracy 0.91\n",
      "Step 36500 of 48678 loss 0.236588 accuracy 0.9375\n",
      "Test loss 0.257 accuracy 0.9\n",
      "Step 37000 of 48678 loss 0.319242 accuracy 0.9375\n",
      "Test loss 0.307732 accuracy 0.895\n",
      "Step 37500 of 48678 loss 0.569181 accuracy 0.84375\n",
      "Test loss 0.28482 accuracy 0.87\n",
      "Step 38000 of 48678 loss 0.273912 accuracy 0.84375\n",
      "Test loss 0.152528 accuracy 0.955\n",
      "Step 38500 of 48678 loss 0.1136 accuracy 0.9375\n",
      "Test loss 0.277475 accuracy 0.87\n",
      "Step 39000 of 48678 loss 0.12381 accuracy 0.96875\n",
      "Test loss 0.19791 accuracy 0.915\n",
      "Step 39500 of 48678 loss 0.290268 accuracy 0.875\n",
      "Test loss 0.279147 accuracy 0.88\n",
      "Step 40000 of 48678 loss 0.444153 accuracy 0.75\n",
      "Test loss 0.177927 accuracy 0.925\n",
      "Step 40500 of 48678 loss 0.256574 accuracy 0.90625\n",
      "Test loss 0.305618 accuracy 0.885\n",
      "Step 41000 of 48678 loss 0.158832 accuracy 0.9375\n",
      "Test loss 0.16151 accuracy 0.955\n",
      "Step 41500 of 48678 loss 0.440706 accuracy 0.84375\n",
      "Test loss 0.244615 accuracy 0.91\n",
      "Step 42000 of 48678 loss 0.353524 accuracy 0.875\n",
      "Test loss 0.245571 accuracy 0.9\n",
      "Step 42500 of 48678 loss 0.280632 accuracy 0.875\n",
      "Test loss 0.285067 accuracy 0.87\n",
      "Step 43000 of 48678 loss 0.288357 accuracy 0.9375\n",
      "Test loss 0.244989 accuracy 0.91\n",
      "Step 43500 of 48678 loss 0.398276 accuracy 0.84375\n",
      "Test loss 0.230491 accuracy 0.925\n",
      "Step 44000 of 48678 loss 0.145555 accuracy 0.9375\n",
      "Test loss 0.269489 accuracy 0.905\n",
      "Step 44500 of 48678 loss 0.280116 accuracy 0.875\n",
      "Test loss 0.291406 accuracy 0.875\n",
      "Step 45000 of 48678 loss 0.160539 accuracy 0.90625\n",
      "Test loss 0.232393 accuracy 0.91\n",
      "Step 45500 of 48678 loss 0.175546 accuracy 0.90625\n",
      "Test loss 0.25796 accuracy 0.895\n",
      "Step 46000 of 48678 loss 0.113758 accuracy 0.9375\n",
      "Test loss 0.191546 accuracy 0.935\n",
      "Step 46500 of 48678 loss 0.516282 accuracy 0.8125\n",
      "Test loss 0.248115 accuracy 0.88\n",
      "Step 47000 of 48678 loss 0.261269 accuracy 0.875\n",
      "Test loss 0.206193 accuracy 0.925\n",
      "Step 47500 of 48678 loss 0.168327 accuracy 0.9375\n",
      "Test loss 0.20343 accuracy 0.915\n",
      "Step 48000 of 48678 loss 0.175001 accuracy 0.96875\n",
      "Test loss 0.238823 accuracy 0.91\n",
      "Step 48500 of 48678 loss 0.155833 accuracy 0.9375\n",
      "Test loss 0.317813 accuracy 0.87\n",
      "Average accuracy 0.895464\n"
     ]
    }
   ],
   "source": [
    "with tf.Session() as sesh:\n",
    "    \n",
    "    init=tf.group(tf.global_variables_initializer(),tf.local_variables_initializer())\n",
    "    sesh.run(init)    \n",
    "    saver = tf.train.Saver()\n",
    "    writer= tf.summary.FileWriter(\"logdir/\", graph = sesh.graph)    \n",
    "    test_accuracy=[]   \n",
    "    \n",
    "    for i in range(num_batches):\n",
    "        if i !=num_batches-1:\n",
    "            x_batch=X_train[i*batch_size:i*batch_size+batch_size]\n",
    "            y_batch=y_train[i*batch_size:i*batch_size+batch_size]\n",
    "        else:\n",
    "            x_batch=X_train[i*batch_size:]\n",
    "            y_batch=y_train[i*batch_size:]\n",
    "        \n",
    "        _, l, a=sesh.run([optimizer,loss,accuracy],feed_dict={x:x_batch,y:y_batch})\n",
    "            \n",
    "        if i>0 and i % 500==0:\n",
    "            # Randomly setting testing data to see performance when training\n",
    "            rand_idx = np.random.choice(np.arange(len(X_test)),200, replace=False)\n",
    "            test_x = X_test[rand_idx]\n",
    "            test_y = y_test[rand_idx]\n",
    "            \n",
    "            t_l, t_a=sesh.run([loss,accuracy],feed_dict={x:test_x,y:test_y})\n",
    "            test_accuracy.append(t_a)\n",
    "            print(\"Step\",i,\"of\", num_batches,\"loss\",l,\"accuracy\",a)\n",
    "            print(\"Test loss\", t_l,\"accuracy\",t_a)            \n",
    "        \n",
    "    print(\"Average accuracy\", np.mean(test_accuracy))\n",
    "    saver.save(sesh, \"logdir\\\\lstm_model.ckpt\")\n",
    "    writer.flush()\n",
    "    writer.close()\n",
    "            "
   ]
  },
  {
   "cell_type": "code",
   "execution_count": null,
   "metadata": {},
   "outputs": [],
   "source": []
  },
  {
   "cell_type": "code",
   "execution_count": null,
   "metadata": {},
   "outputs": [],
   "source": []
  }
 ],
 "metadata": {
  "kernelspec": {
   "display_name": "Python 3",
   "language": "python",
   "name": "python3"
  },
  "language_info": {
   "codemirror_mode": {
    "name": "ipython",
    "version": 3
   },
   "file_extension": ".py",
   "mimetype": "text/x-python",
   "name": "python",
   "nbconvert_exporter": "python",
   "pygments_lexer": "ipython3",
   "version": "3.6.4"
  }
 },
 "nbformat": 4,
 "nbformat_minor": 2
}
